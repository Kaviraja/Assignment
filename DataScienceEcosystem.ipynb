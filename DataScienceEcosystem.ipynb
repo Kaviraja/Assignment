{
 "cells": [
  {
   "cell_type": "markdown",
   "id": "0af304c6-2cd4-4e2f-81ff-e4831a9f575f",
   "metadata": {},
   "source": [
    "# Data Science Tools and Ecosystem"
   ]
  },
  {
   "cell_type": "markdown",
   "id": "268bf17d-d182-483d-81a9-f3888c7e3bac",
   "metadata": {},
   "source": [
    "In this notebook, Data Science Tools and Ecosystem are summarized."
   ]
  },
  {
   "cell_type": "markdown",
   "id": "4a14732f-70c8-4e88-a923-4e905312696b",
   "metadata": {},
   "source": [
    "Some of the popular languages that Data Scientists use are:\n",
    "1. Python\n",
    "2. R\n",
    "3. Perl"
   ]
  },
  {
   "cell_type": "markdown",
   "id": "e34fb028-4e5e-4960-a1d4-2e9bec14a543",
   "metadata": {},
   "source": [
    "Some of the commonly used libraries used by Data Scientists include:\n",
    "1. Tensorflow\n",
    "2. NumPy\n",
    "3. SciPy"
   ]
  },
  {
   "cell_type": "markdown",
   "id": "86ba97e4-fccb-4584-baa3-2e95a4513e1a",
   "metadata": {},
   "source": [
    "| Data Science Tools |\n",
    "|--------------------|\n",
    "| TensorFlow |\n",
    "| RStudio |\n",
    "| Apache Hadoop|"
   ]
  },
  {
   "cell_type": "markdown",
   "id": "6afd4a38-5017-474a-a38e-786fe0bc4a6d",
   "metadata": {},
   "source": [
    "### Below are a few examples of evaluating arithmetic expressions in Python\n"
   ]
  },
  {
   "cell_type": "code",
   "execution_count": 2,
   "id": "5bf6f0d7-e910-4ef5-81f4-5bfc96414b34",
   "metadata": {
    "tags": []
   },
   "outputs": [
    {
     "data": {
      "text/plain": [
       "17"
      ]
     },
     "execution_count": 2,
     "metadata": {},
     "output_type": "execute_result"
    }
   ],
   "source": [
    "#This a simple arithmetic expression to mutiply then add integers\n",
    "(3*4)+5"
   ]
  },
  {
   "cell_type": "code",
   "execution_count": 6,
   "id": "2c59ba30-f092-4599-875c-994c904421e3",
   "metadata": {
    "tags": []
   },
   "outputs": [
    {
     "name": "stdout",
     "output_type": "stream",
     "text": [
      "hours = 3.3333333333333335\n"
     ]
    }
   ],
   "source": [
    "#This will convert 200 minutes to hours by diving by 60\n",
    "minutes=200\n",
    "hours=minutes/60\n",
    "print(f\"hours = {hours}\" )"
   ]
  },
  {
   "cell_type": "markdown",
   "id": "b2923058-1349-4f8c-bfb4-94ce14dee525",
   "metadata": {},
   "source": [
    "**Objectives:**\n",
    "- List popular languages for Data Science\n",
    "- Popular Tools for Data Science\n",
    "- Open Source Platforms\n",
    "- Intro to RStudio\n",
    "- Intro to plots in R\n"
   ]
  },
  {
   "cell_type": "markdown",
   "id": "45ce94ed-d01e-4c95-a416-75d5b96eb9b0",
   "metadata": {},
   "source": [
    "## Author\n",
    "Khawar Khalil\n"
   ]
  },
  {
   "cell_type": "code",
   "execution_count": null,
   "id": "a1278b08-48d9-4b0a-8a75-9e1b4228ce5f",
   "metadata": {},
   "outputs": [],
   "source": []
  }
 ],
 "metadata": {
  "kernelspec": {
   "display_name": "Python",
   "language": "python",
   "name": "conda-env-python-py"
  },
  "language_info": {
   "codemirror_mode": {
    "name": "ipython",
    "version": 3
   },
   "file_extension": ".py",
   "mimetype": "text/x-python",
   "name": "python",
   "nbconvert_exporter": "python",
   "pygments_lexer": "ipython3",
   "version": "3.7.12"
  }
 },
 "nbformat": 4,
 "nbformat_minor": 5
}
